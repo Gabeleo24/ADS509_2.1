{
 "cells": [
  {
   "cell_type": "markdown",
   "metadata": {},
   "source": [
    "# Assignment 5.1: Topic Modeling\n",
    "\n",
    "**Course:** ADS 509 - Applied Text Mining  \n",
    "**Assignment:** Topic Modeling with NMF, LSA, and LDA  \n",
    "**Student:** Gabriel Elohi  \n",
    "**Date:** $(date)\n",
    "\n",
    "## Overview\n",
    "\n",
    "In this assignment, we will build and compare three different topic modeling approaches:\n",
    "1. **NMF (Non-negative Matrix Factorization)** model\n",
    "2. **LSA (Latent Semantic Analysis)** model  \n",
    "3. **LDA (Latent Dirichlet Allocation)** model\n",
    "\n",
    "We will work with the Brown University corpus from NLTK and compare the resulting topic allocations with the official document classifications.\n",
    "\n",
    "## AI Tool Attribution\n",
    "\n",
    "*If any AI tools (ChatGPT, Gemini, GitHub Copilot, etc.) are used in this assignment, they will be explicitly disclosed and cited here with explanations of their contributions.*"
   ]
  },
  {
   "cell_type": "markdown",
   "metadata": {},
   "source": [
    "## 1. Setup and Data Exploration\n",
    "\n",
    "Let's start by importing the necessary libraries and exploring the Brown corpus."
   ]
  },
  {
   "cell_type": "code",
<<<<<<< HEAD
   "execution_count": 1,
   "metadata": {},
   "outputs": [
    {
     "name": "stdout",
     "output_type": "stream",
     "text": [
      "Libraries imported successfully!\n"
     ]
    }
   ],
=======
   "execution_count": null,
   "metadata": {},
   "outputs": [],
>>>>>>> 98a92c591fc7dd32867bea7a844a09c9d4d27a27
   "source": [
    "# Import necessary libraries\n",
    "import numpy as np\n",
    "import pandas as pd\n",
    "import matplotlib.pyplot as plt\n",
    "import seaborn as sns\n",
    "from collections import Counter, defaultdict\n",
    "import warnings\n",
    "warnings.filterwarnings('ignore')\n",
    "\n",
    "# NLTK imports\n",
    "import nltk\n",
    "from nltk.corpus import brown, stopwords\n",
    "from nltk.tokenize import word_tokenize\n",
    "from nltk.stem import WordNetLemmatizer\n",
    "from nltk.tag import pos_tag\n",
    "\n",
    "# Scikit-learn imports for topic modeling\n",
    "from sklearn.feature_extraction.text import TfidfVectorizer, CountVectorizer\n",
    "from sklearn.decomposition import NMF, TruncatedSVD, LatentDirichletAllocation\n",
    "from sklearn.metrics.pairwise import cosine_similarity\n",
    "from sklearn.preprocessing import normalize\n",
    "\n",
    "# Download required NLTK data\n",
    "nltk.download('brown', quiet=True)\n",
    "nltk.download('stopwords', quiet=True)\n",
    "nltk.download('punkt', quiet=True)\n",
    "nltk.download('wordnet', quiet=True)\n",
    "nltk.download('averaged_perceptron_tagger', quiet=True)\n",
    "\n",
    "print(\"Libraries imported successfully!\")"
   ]
  },
  {
   "cell_type": "markdown",
   "metadata": {},
   "source": [
    "### 1.1 Exploring the Brown Corpus"
   ]
  },
  {
   "cell_type": "code",
<<<<<<< HEAD
   "execution_count": 2,
   "metadata": {},
   "outputs": [
    {
     "name": "stdout",
     "output_type": "stream",
     "text": [
      "Brown Corpus Categories:\n",
      "Number of categories: 15\n",
      "Categories: ['adventure', 'belles_lettres', 'editorial', 'fiction', 'government', 'hobbies', 'humor', 'learned', 'lore', 'mystery', 'news', 'religion', 'reviews', 'romance', 'science_fiction']\n",
      "\n",
      "Document counts per category:\n",
      "adventure: 29 documents\n",
      "belles_lettres: 75 documents\n",
      "editorial: 27 documents\n",
      "fiction: 29 documents\n",
      "government: 30 documents\n",
      "hobbies: 36 documents\n",
      "humor: 9 documents\n",
      "learned: 80 documents\n",
      "lore: 48 documents\n",
      "mystery: 24 documents\n",
      "news: 44 documents\n",
      "religion: 17 documents\n",
      "reviews: 17 documents\n",
      "romance: 29 documents\n",
      "science_fiction: 6 documents\n"
     ]
    }
   ],
=======
   "execution_count": null,
   "metadata": {},
   "outputs": [],
>>>>>>> 98a92c591fc7dd32867bea7a844a09c9d4d27a27
   "source": [
    "# Explore the Brown corpus structure\n",
    "print(\"Brown Corpus Categories:\")\n",
    "categories = brown.categories()\n",
    "print(f\"Number of categories: {len(categories)}\")\n",
    "print(f\"Categories: {categories}\")\n",
    "\n",
    "print(\"\\nDocument counts per category:\")\n",
    "for category in categories:\n",
    "    file_count = len(brown.fileids(categories=category))\n",
    "    print(f\"{category}: {file_count} documents\")"
   ]
  },
  {
   "cell_type": "code",
<<<<<<< HEAD
   "execution_count": 3,
   "metadata": {},
   "outputs": [
    {
     "name": "stdout",
     "output_type": "stream",
     "text": [
      "Sample documents from different categories:\n",
      "\n",
      "ADVENTURE - cn01:\n",
      "Dan Morgan told himself he would forget Ann Turner . He was well rid of her . He certainly didn't want a wife who was fickle as Ann . If he had married her , he'd have been asking for trouble . But all of this was rationalization . Sometimes...\n",
      "\n",
      "BELLES_LETTRES - cg01:\n",
      "Northern liberals are the chief supporters of civil rights and of integration . They have also led the nation in the direction of a welfare state . And both in their objectives of non-discrimination and of social progress they have had ranged against them the Southerners who are called Bourbons...\n",
      "\n",
      "EDITORIAL - cb01:\n",
      "Assembly session brought much good The General Assembly , which adjourns today , has performed in an atmosphere of crisis and struggle from the day it convened . It was faced immediately with a showdown on the schools , an issue which was met squarely in conjunction with the governor...\n"
     ]
    }
   ],
=======
   "execution_count": null,
   "metadata": {},
   "outputs": [],
>>>>>>> 98a92c591fc7dd32867bea7a844a09c9d4d27a27
   "source": [
    "# Get sample documents from different categories\n",
    "print(\"Sample documents from different categories:\")\n",
    "for i, category in enumerate(categories[:3]):\n",
    "    file_id = brown.fileids(categories=category)[0]\n",
    "    sample_text = ' '.join(brown.words(file_id)[:50])\n",
    "    print(f\"\\n{category.upper()} - {file_id}:\")\n",
    "    print(sample_text + \"...\")"
   ]
  },
  {
   "cell_type": "markdown",
   "metadata": {},
   "source": [
    "### 1.2 Data Preprocessing"
   ]
  },
  {
   "cell_type": "code",
<<<<<<< HEAD
   "execution_count": 4,
   "metadata": {},
   "outputs": [
    {
     "name": "stdout",
     "output_type": "stream",
     "text": [
      "Preprocessing function defined.\n"
     ]
    }
   ],
=======
   "execution_count": null,
   "metadata": {},
   "outputs": [],
>>>>>>> 98a92c591fc7dd32867bea7a844a09c9d4d27a27
   "source": [
    "# Initialize preprocessing tools\n",
    "lemmatizer = WordNetLemmatizer()\n",
    "stop_words = set(stopwords.words('english'))\n",
    "\n",
    "def preprocess_text(text):\n",
    "    \"\"\"\n",
    "    Preprocess text by tokenizing, removing stopwords, and lemmatizing.\n",
    "    \"\"\"\n",
    "    # Convert to lowercase and tokenize\n",
    "    tokens = word_tokenize(text.lower())\n",
    "    \n",
    "    # Remove non-alphabetic tokens and stopwords\n",
    "    tokens = [token for token in tokens if token.isalpha() and token not in stop_words]\n",
    "    \n",
    "    # Lemmatize tokens\n",
    "    tokens = [lemmatizer.lemmatize(token) for token in tokens]\n",
    "    \n",
    "    # Filter out very short tokens\n",
    "    tokens = [token for token in tokens if len(token) > 2]\n",
    "    \n",
    "    return ' '.join(tokens)\n",
    "\n",
    "print(\"Preprocessing function defined.\")"
   ]
  },
  {
   "cell_type": "code",
<<<<<<< HEAD
   "execution_count": 5,
   "metadata": {},
   "outputs": [
    {
     "name": "stdout",
     "output_type": "stream",
     "text": [
      "Preparing corpus for topic modeling...\n",
      "Total documents prepared: 500\n",
      "Average document length: 1021.7 words\n"
     ]
    }
   ],
=======
   "execution_count": null,
   "metadata": {},
   "outputs": [],
>>>>>>> 98a92c591fc7dd32867bea7a844a09c9d4d27a27
   "source": [
    "# Prepare the corpus for topic modeling\n",
    "print(\"Preparing corpus for topic modeling...\")\n",
    "\n",
    "documents = []\n",
    "document_categories = []\n",
    "document_ids = []\n",
    "\n",
    "# Process documents from each category\n",
    "for category in categories:\n",
    "    file_ids = brown.fileids(categories=category)\n",
    "    for file_id in file_ids:\n",
    "        # Get raw text\n",
    "        raw_text = ' '.join(brown.words(file_id))\n",
    "        \n",
    "        # Preprocess text\n",
    "        processed_text = preprocess_text(raw_text)\n",
    "        \n",
    "        # Only include documents with sufficient content\n",
    "        if len(processed_text.split()) > 50:\n",
    "            documents.append(processed_text)\n",
    "            document_categories.append(category)\n",
    "            document_ids.append(file_id)\n",
    "\n",
    "print(f\"Total documents prepared: {len(documents)}\")\n",
    "print(f\"Average document length: {np.mean([len(doc.split()) for doc in documents]):.1f} words\")"
   ]
  },
  {
   "cell_type": "markdown",
   "metadata": {},
   "source": [
    "## 2. NMF (Non-negative Matrix Factorization) Topic Model\n",
    "\n",
    "Let's start with building an NMF model for topic modeling."
   ]
  },
  {
   "cell_type": "code",
<<<<<<< HEAD
   "execution_count": 6,
   "metadata": {},
   "outputs": [
    {
     "name": "stdout",
     "output_type": "stream",
     "text": [
      "Creating TF-IDF matrix for NMF...\n",
      "TF-IDF matrix shape: (500, 1000)\n",
      "Vocabulary size: 1000\n"
     ]
    }
   ],
=======
   "execution_count": null,
   "metadata": {},
   "outputs": [],
>>>>>>> 98a92c591fc7dd32867bea7a844a09c9d4d27a27
   "source": [
    "# Create TF-IDF vectorizer for NMF\n",
    "print(\"Creating TF-IDF matrix for NMF...\")\n",
    "\n",
    "# Parameters for vectorization\n",
    "max_features = 1000  # Limit vocabulary size\n",
    "min_df = 2  # Ignore terms that appear in less than 2 documents\n",
    "max_df = 0.8  # Ignore terms that appear in more than 80% of documents\n",
    "\n",
    "tfidf_vectorizer = TfidfVectorizer(\n",
    "    max_features=max_features,\n",
    "    min_df=min_df,\n",
    "    max_df=max_df,\n",
    "    ngram_range=(1, 2),  # Include unigrams and bigrams\n",
    "    stop_words='english'\n",
    ")\n",
    "\n",
    "tfidf_matrix = tfidf_vectorizer.fit_transform(documents)\n",
    "feature_names = tfidf_vectorizer.get_feature_names_out()\n",
    "\n",
    "print(f\"TF-IDF matrix shape: {tfidf_matrix.shape}\")\n",
    "print(f\"Vocabulary size: {len(feature_names)}\")"
   ]
  },
  {
   "cell_type": "code",
<<<<<<< HEAD
   "execution_count": 7,
   "metadata": {},
   "outputs": [
    {
     "name": "stdout",
     "output_type": "stream",
     "text": [
      "Scikit-learn version: 1.6.1\n"
     ]
    }
   ],
=======
   "execution_count": null,
   "metadata": {},
   "outputs": [],
>>>>>>> 98a92c591fc7dd32867bea7a844a09c9d4d27a27
   "source": [
    "# Check scikit-learn version for NMF parameter compatibility\n",
    "import sklearn\n",
    "print(f\"Scikit-learn version: {sklearn.__version__}\")\n",
    "\n",
    "# Note: NMF parameters changed in different sklearn versions:\n",
    "# - Older versions used 'alpha' parameter\n",
    "# - Newer versions use 'alpha_W' and 'alpha_H' parameters\n",
    "# We'll use basic parameters for maximum compatibility"
   ]
  },
  {
   "cell_type": "code",
<<<<<<< HEAD
   "execution_count": 8,
   "metadata": {},
   "outputs": [
    {
     "name": "stdout",
     "output_type": "stream",
     "text": [
      "Fitting NMF model...\n",
      "NMF model fitted successfully!\n",
      "Document-topic matrix shape: (500, 10)\n"
     ]
    }
   ],
=======
   "execution_count": null,
   "metadata": {},
   "outputs": [],
>>>>>>> 98a92c591fc7dd32867bea7a844a09c9d4d27a27
   "source": [
    "# Fit NMF model\n",
    "print(\"Fitting NMF model...\")\n",
    "\n",
    "n_topics = 10  # Number of topics to extract\n",
    "random_state = 42\n",
    "\n",
    "# Create NMF model with compatible parameters\n",
    "nmf_model = NMF(\n",
    "    n_components=n_topics,\n",
    "    random_state=random_state,\n",
    "    init='nndsvd',  # Non-negative double SVD initialization\n",
    "    solver='cd',  # Coordinate descent solver\n",
    "    max_iter=200\n",
    ")\n",
    "\n",
    "nmf_topics = nmf_model.fit_transform(tfidf_matrix)\n",
    "\n",
    "print(f\"NMF model fitted successfully!\")\n",
    "print(f\"Document-topic matrix shape: {nmf_topics.shape}\")"
   ]
  },
  {
   "cell_type": "code",
<<<<<<< HEAD
   "execution_count": 9,
   "metadata": {},
   "outputs": [
    {
     "name": "stdout",
     "output_type": "stream",
     "text": [
      "\n",
      "=== NMF Topics ===\n",
      "\n",
      "Topic 1:\n",
      "  said: 1.231\n",
      "  like: 0.477\n",
      "  got: 0.395\n",
      "  know: 0.384\n",
      "  woman: 0.352\n",
      "  went: 0.343\n",
      "  room: 0.341\n",
      "  thought: 0.337\n",
      "\n",
      "Topic 2:\n",
      "  state: 0.450\n",
      "  nation: 0.422\n",
      "  united: 0.370\n",
      "  war: 0.366\n",
      "  soviet: 0.357\n",
      "  american: 0.332\n",
      "  government: 0.323\n",
      "  united state: 0.298\n",
      "\n",
      "Topic 3:\n",
      "  human: 0.264\n",
      "  man: 0.245\n",
      "  life: 0.241\n",
      "  experience: 0.231\n",
      "  literature: 0.217\n",
      "  idea: 0.204\n",
      "  form: 0.203\n",
      "  century: 0.203\n",
      "\n",
      "Topic 4:\n",
      "  temperature: 0.381\n",
      "  surface: 0.353\n",
      "  used: 0.285\n",
      "  cell: 0.274\n",
      "  data: 0.237\n",
      "  pressure: 0.231\n",
      "  material: 0.230\n",
      "  fig: 0.222\n",
      "\n",
      "Topic 5:\n",
      "  school: 0.845\n",
      "  student: 0.610\n",
      "  college: 0.593\n",
      "  child: 0.407\n",
      "  education: 0.320\n",
      "  teacher: 0.305\n",
      "  university: 0.278\n",
      "  class: 0.186\n",
      "\n",
      "Topic 6:\n",
      "  music: 0.495\n",
      "  song: 0.340\n",
      "  new: 0.303\n",
      "  performance: 0.266\n",
      "  new york: 0.258\n",
      "  york: 0.254\n",
      "  miss: 0.254\n",
      "  jazz: 0.254\n",
      "\n",
      "Topic 7:\n",
      "  church: 1.098\n",
      "  god: 0.490\n",
      "  christian: 0.388\n",
      "  catholic: 0.298\n",
      "  christ: 0.293\n",
      "  john: 0.218\n",
      "  member: 0.184\n",
      "  new: 0.158\n",
      "\n",
      "Topic 8:\n",
      "  man: 0.383\n",
      "  men: 0.354\n",
      "  horse: 0.321\n",
      "  water: 0.309\n",
      "  head: 0.298\n",
      "  foot: 0.293\n",
      "  eye: 0.292\n",
      "  gun: 0.290\n",
      "\n",
      "Topic 9:\n",
      "  cost: 0.348\n",
      "  company: 0.325\n",
      "  sale: 0.310\n",
      "  industry: 0.279\n",
      "  program: 0.250\n",
      "  plant: 0.249\n",
      "  market: 0.246\n",
      "  tax: 0.241\n",
      "\n",
      "Topic 10:\n",
      "  president: 0.698\n",
      "  kennedy: 0.458\n",
      "  said: 0.416\n",
      "  state: 0.360\n",
      "  committee: 0.344\n",
      "  house: 0.326\n",
      "  election: 0.280\n",
      "  party: 0.261\n"
     ]
    }
   ],
=======
   "execution_count": null,
   "metadata": {},
   "outputs": [],
>>>>>>> 98a92c591fc7dd32867bea7a844a09c9d4d27a27
   "source": [
    "# Display top words for each NMF topic\n",
    "def display_topics(model, feature_names, n_top_words=10, model_name=\"Model\"):\n",
    "    \"\"\"\n",
    "    Display the top words for each topic.\n",
    "    \"\"\"\n",
    "    print(f\"\\n=== {model_name} Topics ===\")\n",
    "    \n",
    "    for topic_idx, topic in enumerate(model.components_):\n",
    "        top_words_idx = topic.argsort()[-n_top_words:][::-1]\n",
    "        top_words = [feature_names[i] for i in top_words_idx]\n",
    "        top_weights = [topic[i] for i in top_words_idx]\n",
    "        \n",
    "        print(f\"\\nTopic {topic_idx + 1}:\")\n",
    "        for word, weight in zip(top_words, top_weights):\n",
    "            print(f\"  {word}: {weight:.3f}\")\n",
    "\n",
    "# Display NMF topics\n",
    "display_topics(nmf_model, feature_names, n_top_words=8, model_name=\"NMF\")"
   ]
  },
  {
   "cell_type": "markdown",
   "metadata": {},
   "source": [
    "### 2.1 NMF Topic Interpretation\n",
    "\n",
    "**Analysis of NMF Topics:**\n",
    "\n",
    "*[Add your interpretation of the NMF topics here. Discuss what themes or subjects each topic seems to represent based on the top words.]*"
   ]
  },
  {
   "cell_type": "markdown",
   "metadata": {},
   "source": [
    "## 3. LSA (Latent Semantic Analysis) Topic Model\n",
    "\n",
    "Now let's build an LSA model using Truncated SVD."
   ]
  },
  {
   "cell_type": "code",
<<<<<<< HEAD
   "execution_count": 10,
   "metadata": {},
   "outputs": [
    {
     "name": "stdout",
     "output_type": "stream",
     "text": [
      "Fitting LSA model...\n",
      "LSA model fitted successfully!\n",
      "Document-topic matrix shape: (500, 10)\n",
      "Explained variance ratio: 0.155\n"
     ]
    }
   ],
=======
   "execution_count": null,
   "metadata": {},
   "outputs": [],
>>>>>>> 98a92c591fc7dd32867bea7a844a09c9d4d27a27
   "source": [
    "# Fit LSA model using TruncatedSVD\n",
    "print(\"Fitting LSA model...\")\n",
    "\n",
    "lsa_model = TruncatedSVD(\n",
    "    n_components=n_topics,\n",
    "    random_state=random_state,\n",
    "    algorithm='randomized'\n",
    ")\n",
    "\n",
    "lsa_topics = lsa_model.fit_transform(tfidf_matrix)\n",
    "\n",
    "print(f\"LSA model fitted successfully!\")\n",
    "print(f\"Document-topic matrix shape: {lsa_topics.shape}\")\n",
    "print(f\"Explained variance ratio: {lsa_model.explained_variance_ratio_.sum():.3f}\")"
   ]
  },
  {
   "cell_type": "code",
<<<<<<< HEAD
   "execution_count": 11,
   "metadata": {},
   "outputs": [
    {
     "name": "stdout",
     "output_type": "stream",
     "text": [
      "\n",
      "=== LSA Topics ===\n",
      "\n",
      "Topic 1:\n",
      "  said: 0.219\n",
      "  man: 0.135\n",
      "  like: 0.128\n",
      "  new: 0.112\n",
      "  year: 0.110\n",
      "  day: 0.097\n",
      "  state: 0.092\n",
      "  house: 0.089\n",
      "\n",
      "Topic 2:\n",
      "  said: 0.235\n",
      "  like: 0.122\n",
      "  eye: 0.109\n",
      "  got: 0.106\n",
      "  door: 0.103\n",
      "  looked: 0.095\n",
      "  knew: 0.090\n",
      "  went: 0.088\n",
      "\n",
      "Topic 3:\n",
      "  said: 0.240\n",
      "  state: 0.217\n",
      "  president: 0.165\n",
      "  government: 0.108\n",
      "  kennedy: 0.106\n",
      "  united: 0.101\n",
      "  house: 0.099\n",
      "  tax: 0.096\n",
      "\n",
      "Topic 4:\n",
      "  church: 0.213\n",
      "  god: 0.135\n",
      "  student: 0.106\n",
      "  school: 0.106\n",
      "  college: 0.103\n",
      "  christian: 0.101\n",
      "  world: 0.093\n",
      "  life: 0.091\n",
      "\n",
      "Topic 5:\n",
      "  school: 0.328\n",
      "  student: 0.222\n",
      "  college: 0.206\n",
      "  child: 0.164\n",
      "  miss: 0.155\n",
      "  university: 0.121\n",
      "  education: 0.108\n",
      "  year: 0.107\n",
      "\n",
      "Topic 6:\n",
      "  church: 0.248\n",
      "  said: 0.237\n",
      "  school: 0.124\n",
      "  christian: 0.112\n",
      "  social: 0.110\n",
      "  god: 0.107\n",
      "  catholic: 0.102\n",
      "  law: 0.099\n",
      "\n",
      "Topic 7:\n",
      "  church: 0.531\n",
      "  god: 0.232\n",
      "  john: 0.170\n",
      "  christian: 0.159\n",
      "  christ: 0.146\n",
      "  river: 0.124\n",
      "  catholic: 0.122\n",
      "  water: 0.109\n",
      "\n",
      "Topic 8:\n",
      "  school: 0.266\n",
      "  college: 0.250\n",
      "  student: 0.249\n",
      "  child: 0.159\n",
      "  teacher: 0.132\n",
      "  education: 0.115\n",
      "  war: 0.105\n",
      "  president: 0.105\n",
      "\n",
      "Topic 9:\n",
      "  church: 0.234\n",
      "  president: 0.185\n",
      "  kennedy: 0.165\n",
      "  soviet: 0.120\n",
      "  game: 0.119\n",
      "  miss: 0.102\n",
      "  room: 0.098\n",
      "  music: 0.096\n",
      "\n",
      "Topic 10:\n",
      "  president: 0.198\n",
      "  cell: 0.178\n",
      "  john: 0.133\n",
      "  kennedy: 0.133\n",
      "  temperature: 0.129\n",
      "  trial: 0.114\n",
      "  fig: 0.111\n",
      "  house: 0.109\n"
     ]
    }
   ],
=======
   "execution_count": null,
   "metadata": {},
   "outputs": [],
>>>>>>> 98a92c591fc7dd32867bea7a844a09c9d4d27a27
   "source": [
    "# Display LSA topics\n",
    "display_topics(lsa_model, feature_names, n_top_words=8, model_name=\"LSA\")"
   ]
  },
  {
   "cell_type": "markdown",
   "metadata": {},
   "source": [
    "### 3.1 LSA Topic Interpretation\n",
    "\n",
    "**Analysis of LSA Topics:**\n",
    "\n",
    "*[Add your interpretation of the LSA topics here. Compare with NMF results and discuss similarities/differences.]*"
   ]
  },
  {
   "cell_type": "markdown",
   "metadata": {},
   "source": [
    "## 4. LDA (Latent Dirichlet Allocation) Topic Model\n",
    "\n",
    "Finally, let's build an LDA model. LDA works better with count data rather than TF-IDF."
   ]
  },
  {
   "cell_type": "code",
<<<<<<< HEAD
   "execution_count": 12,
   "metadata": {},
   "outputs": [
    {
     "name": "stdout",
     "output_type": "stream",
     "text": [
      "Creating count matrix for LDA...\n",
      "Count matrix shape: (500, 1000)\n",
      "Vocabulary size: 1000\n"
     ]
    }
   ],
=======
   "execution_count": null,
   "metadata": {},
   "outputs": [],
>>>>>>> 98a92c591fc7dd32867bea7a844a09c9d4d27a27
   "source": [
    "# Create count vectorizer for LDA\n",
    "print(\"Creating count matrix for LDA...\")\n",
    "\n",
    "count_vectorizer = CountVectorizer(\n",
    "    max_features=max_features,\n",
    "    min_df=min_df,\n",
    "    max_df=max_df,\n",
    "    ngram_range=(1, 1),  # Only unigrams for LDA\n",
    "    stop_words='english'\n",
    ")\n",
    "\n",
    "count_matrix = count_vectorizer.fit_transform(documents)\n",
    "count_feature_names = count_vectorizer.get_feature_names_out()\n",
    "\n",
    "print(f\"Count matrix shape: {count_matrix.shape}\")\n",
    "print(f\"Vocabulary size: {len(count_feature_names)}\")"
   ]
  },
  {
   "cell_type": "code",
<<<<<<< HEAD
   "execution_count": 13,
   "metadata": {},
   "outputs": [
    {
     "name": "stdout",
     "output_type": "stream",
     "text": [
      "Setting up LDA model with scikit-learn parameter names...\n"
     ]
    }
   ],
=======
   "execution_count": null,
   "metadata": {},
   "outputs": [],
>>>>>>> 98a92c591fc7dd32867bea7a844a09c9d4d27a27
   "source": [
    "# Note: LDA parameter names in scikit-learn:\n",
    "# - doc_topic_prior (equivalent to alpha in other LDA implementations)\n",
    "# - topic_word_prior (equivalent to beta in other LDA implementations)\n",
    "print(\"Setting up LDA model with scikit-learn parameter names...\")"
   ]
  },
  {
   "cell_type": "code",
<<<<<<< HEAD
   "execution_count": 14,
   "metadata": {},
   "outputs": [
    {
     "name": "stdout",
     "output_type": "stream",
     "text": [
      "Fitting LDA model...\n",
      "LDA model fitted successfully!\n",
      "Document-topic matrix shape: (500, 10)\n",
      "Log likelihood: -1349398.43\n"
     ]
    }
   ],
=======
   "execution_count": null,
   "metadata": {},
   "outputs": [],
>>>>>>> 98a92c591fc7dd32867bea7a844a09c9d4d27a27
   "source": [
    "# Fit LDA model\n",
    "print(\"Fitting LDA model...\")\n",
    "\n",
    "# Create LDA model with correct parameter names\n",
    "lda_model = LatentDirichletAllocation(\n",
    "    n_components=n_topics,\n",
    "    random_state=random_state,\n",
    "    doc_topic_prior=0.1,  # Document-topic concentration (alpha)\n",
    "    topic_word_prior=0.01,  # Topic-word concentration (beta)\n",
    "    max_iter=100,\n",
    "    learning_method='batch'\n",
    ")\n",
    "\n",
    "lda_topics = lda_model.fit_transform(count_matrix)\n",
    "\n",
    "print(f\"LDA model fitted successfully!\")\n",
    "print(f\"Document-topic matrix shape: {lda_topics.shape}\")\n",
    "print(f\"Log likelihood: {lda_model.score(count_matrix):.2f}\")"
   ]
  },
  {
   "cell_type": "code",
<<<<<<< HEAD
   "execution_count": 15,
   "metadata": {},
   "outputs": [
    {
     "name": "stdout",
     "output_type": "stream",
     "text": [
      "\n",
      "=== LDA Topics ===\n",
      "\n",
      "Topic 1:\n",
      "  new: 397.064\n",
      "  city: 310.589\n",
      "  south: 219.396\n",
      "  year: 204.915\n",
      "  town: 179.862\n",
      "  day: 173.985\n",
      "  north: 161.176\n",
      "  old: 141.456\n",
      "\n",
      "Topic 2:\n",
      "  social: 310.731\n",
      "  law: 284.947\n",
      "  state: 282.828\n",
      "  people: 269.414\n",
      "  community: 215.618\n",
      "  fact: 210.616\n",
      "  policy: 210.547\n",
      "  question: 194.406\n",
      "\n",
      "Topic 3:\n",
      "  number: 317.757\n",
      "  point: 218.305\n",
      "  line: 183.520\n",
      "  form: 183.381\n",
      "  value: 178.789\n",
      "  data: 157.376\n",
      "  information: 156.605\n",
      "  used: 149.535\n",
      "\n",
      "Topic 4:\n",
      "  said: 1539.817\n",
      "  like: 973.071\n",
      "  man: 772.658\n",
      "  know: 565.163\n",
      "  hand: 536.752\n",
      "  little: 526.372\n",
      "  day: 507.702\n",
      "  came: 480.362\n",
      "\n",
      "Topic 5:\n",
      "  life: 337.321\n",
      "  work: 334.181\n",
      "  new: 301.967\n",
      "  world: 258.195\n",
      "  great: 233.810\n",
      "  say: 229.262\n",
      "  man: 228.720\n",
      "  book: 224.913\n",
      "\n",
      "Topic 6:\n",
      "  school: 630.635\n",
      "  child: 398.718\n",
      "  student: 311.352\n",
      "  year: 309.762\n",
      "  college: 298.311\n",
      "  university: 218.312\n",
      "  program: 184.637\n",
      "  education: 183.863\n",
      "\n",
      "Topic 7:\n",
      "  state: 644.998\n",
      "  year: 474.620\n",
      "  cost: 357.573\n",
      "  program: 278.977\n",
      "  tax: 246.010\n",
      "  business: 244.003\n",
      "  service: 228.834\n",
      "  development: 227.840\n",
      "\n",
      "Topic 8:\n",
      "  church: 428.934\n",
      "  god: 299.323\n",
      "  life: 158.465\n",
      "  john: 157.679\n",
      "  new: 148.876\n",
      "  christian: 146.015\n",
      "  man: 139.350\n",
      "  religious: 119.690\n",
      "\n",
      "Topic 9:\n",
      "  state: 415.560\n",
      "  president: 360.202\n",
      "  new: 322.374\n",
      "  war: 321.515\n",
      "  american: 310.930\n",
      "  united: 268.857\n",
      "  said: 246.264\n",
      "  nation: 225.687\n",
      "\n",
      "Topic 10:\n",
      "  used: 249.765\n",
      "  surface: 210.217\n",
      "  water: 182.212\n",
      "  material: 167.622\n",
      "  area: 162.748\n",
      "  use: 161.222\n",
      "  temperature: 161.010\n",
      "  high: 126.234\n"
     ]
    }
   ],
=======
   "execution_count": null,
   "metadata": {},
   "outputs": [],
>>>>>>> 98a92c591fc7dd32867bea7a844a09c9d4d27a27
   "source": [
    "# Display LDA topics\n",
    "display_topics(lda_model, count_feature_names, n_top_words=8, model_name=\"LDA\")"
   ]
  },
  {
   "cell_type": "markdown",
   "metadata": {},
   "source": [
    "### 4.1 LDA Topic Interpretation\n",
    "\n",
    "**Analysis of LDA Topics:**\n",
    "\n",
    "*[Add your interpretation of the LDA topics here. Compare with NMF and LSA results.]*"
   ]
  },
  {
   "cell_type": "markdown",
   "metadata": {},
   "source": [
    "## 5. Model Comparison and Analysis\n",
    "\n",
    "Let's compare the three topic modeling approaches and analyze their performance."
   ]
  },
  {
   "cell_type": "code",
<<<<<<< HEAD
   "execution_count": 16,
   "metadata": {},
   "outputs": [
    {
     "name": "stdout",
     "output_type": "stream",
     "text": [
      "Topic assignment comparison:\n",
      "  document_id true_category  nmf_topic  lsa_topic  lda_topic\n",
      "0        cn01     adventure          0          0          3\n",
      "1        cn02     adventure          7          0          3\n",
      "2        cn03     adventure          7          0          3\n",
      "3        cn04     adventure          7          0          3\n",
      "4        cn05     adventure          0          0          3\n",
      "5        cn06     adventure          0          0          3\n",
      "6        cn07     adventure          7          0          3\n",
      "7        cn08     adventure          7          0          3\n",
      "8        cn09     adventure          0          0          3\n",
      "9        cn10     adventure          0          0          3\n"
     ]
    }
   ],
=======
   "execution_count": null,
   "metadata": {},
   "outputs": [],
>>>>>>> 98a92c591fc7dd32867bea7a844a09c9d4d27a27
   "source": [
    "# Create a comparison of topic assignments\n",
    "def get_dominant_topic(doc_topic_matrix):\n",
    "    \"\"\"\n",
    "    Get the dominant topic for each document.\n",
    "    \"\"\"\n",
    "    return np.argmax(doc_topic_matrix, axis=1)\n",
    "\n",
    "# Get dominant topics for each model\n",
    "nmf_dominant_topics = get_dominant_topic(nmf_topics)\n",
    "lsa_dominant_topics = get_dominant_topic(lsa_topics)\n",
    "lda_dominant_topics = get_dominant_topic(lda_topics)\n",
    "\n",
    "# Create comparison DataFrame\n",
    "comparison_df = pd.DataFrame({\n",
    "    'document_id': document_ids,\n",
    "    'true_category': document_categories,\n",
    "    'nmf_topic': nmf_dominant_topics,\n",
    "    'lsa_topic': lsa_dominant_topics,\n",
    "    'lda_topic': lda_dominant_topics\n",
    "})\n",
    "\n",
    "print(\"Topic assignment comparison:\")\n",
    "print(comparison_df.head(10))"
   ]
  },
  {
   "cell_type": "code",
<<<<<<< HEAD
   "execution_count": 17,
   "metadata": {},
   "outputs": [
    {
     "name": "stdout",
     "output_type": "stream",
     "text": [
      "\n",
      "Topic distribution analysis:\n",
      "\n",
      "NMF Topic Distribution by Category:\n",
      "nmf_topic         0   1   2   3  4   5   6   7   8   9\n",
      "true_category                                         \n",
      "adventure        12   0   0   0  0   0   0  17   0   0\n",
      "belles_lettres    5  10  31   1  5  10   2   6   0   5\n",
      "editorial         0  16   0   0  2   3   3   1   1   1\n",
      "fiction          14   0   0   0  0   2   3  10   0   0\n",
      "government        0   7   1   3  1   0   0   0  16   2\n",
      "hobbies           0   1   0  12  4   5   0   4  10   0\n",
      "humor             5   0   0   0  0   3   0   0   0   1\n",
      "learned           0   4  17  38  6   2   0   1   9   3\n",
      "lore              1   5   9   4  7   4   4   7   4   3\n",
      "mystery          18   0   0   0  0   0   0   6   0   0\n",
      "news              0   4   0   0  7  11   2   1   7  12\n",
      "religion          0   0   5   0  0   0  11   1   0   0\n",
      "reviews           0   2   1   1  0  13   0   0   0   0\n",
      "romance          22   0   0   0  1   0   1   4   1   0\n",
      "science_fiction   3   0   2   0  0   0   1   0   0   0\n",
      "\n",
      "LSA Topic Distribution by Category:\n",
      "lsa_topic         0  2  4  5  6  7   9\n",
      "true_category                         \n",
      "adventure        29  0  0  0  0  0   0\n",
      "belles_lettres   74  0  0  0  0  1   0\n",
      "editorial        27  0  0  0  0  0   0\n",
      "fiction          27  0  0  0  2  0   0\n",
      "government       25  3  1  0  0  0   1\n",
      "hobbies          34  0  1  0  0  0   1\n",
      "humor             9  0  0  0  0  0   0\n",
      "learned          62  1  4  2  0  1  10\n",
      "lore             41  0  2  1  3  1   0\n",
      "mystery          24  0  0  0  0  0   0\n",
      "news             43  1  0  0  0  0   0\n",
      "religion         14  0  0  0  3  0   0\n",
      "reviews          17  0  0  0  0  0   0\n",
      "romance          29  0  0  0  0  0   0\n",
      "science_fiction   6  0  0  0  0  0   0\n",
      "\n",
      "LDA Topic Distribution by Category:\n",
      "lda_topic         0   1   2   3   4  5   6  7   8   9\n",
      "true_category                                        \n",
      "adventure         0   0   0  29   0  0   0  0   0   0\n",
      "belles_lettres    3  16   2  15  30  0   0  0   9   0\n",
      "editorial         0   0   0   3   4  0   1  0  19   0\n",
      "fiction           0   0   0  28   1  0   0  0   0   0\n",
      "government        0   3   1   0   0  1  18  0   5   2\n",
      "hobbies           6   0   1   3   5  2   4  1   1  13\n",
      "humor             0   0   0   8   1  0   0  0   0   0\n",
      "learned           2   8  19   2  13  3   7  0   3  23\n",
      "lore              4   8   0  11   8  6   2  1   5   3\n",
      "mystery           0   0   0  24   0  0   0  0   0   0\n",
      "news             10   1   0   4   1  8   7  0  13   0\n",
      "religion          0   5   1   2   3  0   0  6   0   0\n",
      "reviews           1   0   0   0  15  0   0  0   1   0\n",
      "romance           0   0   0  29   0  0   0  0   0   0\n",
      "science_fiction   0   0   0   6   0  0   0  0   0   0\n"
     ]
    }
   ],
=======
   "execution_count": null,
   "metadata": {},
   "outputs": [],
>>>>>>> 98a92c591fc7dd32867bea7a844a09c9d4d27a27
   "source": [
    "# Analyze topic distribution by true categories\n",
    "print(\"\\nTopic distribution analysis:\")\n",
    "\n",
    "for model_name, topic_col in [('NMF', 'nmf_topic'), ('LSA', 'lsa_topic'), ('LDA', 'lda_topic')]:\n",
    "    print(f\"\\n{model_name} Topic Distribution by Category:\")\n",
    "    topic_category_crosstab = pd.crosstab(comparison_df['true_category'], comparison_df[topic_col])\n",
    "    print(topic_category_crosstab)"
   ]
  },
  {
   "cell_type": "code",
<<<<<<< HEAD
   "execution_count": 18,
   "metadata": {},
   "outputs": [
    {
     "data": {
      "image/png": "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",
      "text/plain": [
       "<Figure size 1800x600 with 3 Axes>"
      ]
     },
     "metadata": {},
     "output_type": "display_data"
    }
   ],
=======
   "execution_count": null,
   "metadata": {},
   "outputs": [],
>>>>>>> 98a92c591fc7dd32867bea7a844a09c9d4d27a27
   "source": [
    "# Visualize topic distributions\n",
    "fig, axes = plt.subplots(1, 3, figsize=(18, 6))\n",
    "\n",
    "models = [('NMF', nmf_topics), ('LSA', lsa_topics), ('LDA', lda_topics)]\n",
    "\n",
    "for idx, (model_name, topic_matrix) in enumerate(models):\n",
    "    # Calculate average topic weights\n",
    "    avg_topic_weights = np.mean(topic_matrix, axis=0)\n",
    "    \n",
    "    axes[idx].bar(range(len(avg_topic_weights)), avg_topic_weights)\n",
    "    axes[idx].set_title(f'{model_name} Average Topic Weights')\n",
    "    axes[idx].set_xlabel('Topic')\n",
    "    axes[idx].set_ylabel('Average Weight')\n",
    "    axes[idx].set_xticks(range(len(avg_topic_weights)))\n",
    "\n",
    "plt.tight_layout()\n",
    "plt.show()"
   ]
  },
  {
   "cell_type": "markdown",
   "metadata": {},
   "source": [
    "## 6. Conclusions and Insights\n",
    "\n",
    "### 6.1 Model Comparison Summary\n",
    "\n",
    "**NMF (Non-negative Matrix Factorization):**\n",
    "- *[Add your analysis of NMF performance and characteristics]*\n",
    "\n",
    "**LSA (Latent Semantic Analysis):**\n",
    "- *[Add your analysis of LSA performance and characteristics]*\n",
    "\n",
    "**LDA (Latent Dirichlet Allocation):**\n",
    "- *[Add your analysis of LDA performance and characteristics]*\n",
    "\n",
    "### 6.2 Comparison with Official Brown Corpus Categories\n",
    "\n",
    "*[Discuss how well each model's topics align with the official Brown corpus categories. Which model performed best at capturing the underlying document structure?]*\n",
    "\n",
    "### 6.3 Key Findings\n",
    "\n",
    "1. *[Finding 1]*\n",
    "2. *[Finding 2]*\n",
    "3. *[Finding 3]*\n",
    "\n",
    "### 6.4 Recommendations\n",
    "\n",
    "*[Based on your analysis, which topic modeling approach would you recommend for different use cases?]*"
   ]
  },
  {
   "cell_type": "markdown",
   "metadata": {},
   "source": [
    "## 7. Additional Analysis (Optional)\n",
    "\n",
    "### 7.1 Topic Coherence Analysis\n",
    "\n",
    "*[If time permits, add topic coherence analysis or other advanced metrics]*"
   ]
  },
  {
   "cell_type": "code",
<<<<<<< HEAD
   "execution_count": 19,
   "metadata": {},
   "outputs": [
    {
     "name": "stdout",
     "output_type": "stream",
     "text": [
      "Assignment completed successfully!\n",
      "\n",
      "Next steps:\n",
      "1. Fill in the interpretation sections with your analysis\n",
      "2. Run all cells and verify results\n",
      "3. Convert notebook to PDF for submission\n",
      "4. Commit and push to GitHub\n"
     ]
    }
   ],
=======
   "execution_count": null,
   "metadata": {},
   "outputs": [],
>>>>>>> 98a92c591fc7dd32867bea7a844a09c9d4d27a27
   "source": [
    "# Optional: Add any additional analysis code here\n",
    "print(\"Assignment completed successfully!\")\n",
    "print(\"\\nNext steps:\")\n",
    "print(\"1. Fill in the interpretation sections with your analysis\")\n",
    "print(\"2. Run all cells and verify results\")\n",
    "print(\"3. Convert notebook to PDF for submission\")\n",
    "print(\"4. Commit and push to GitHub\")"
   ]
  }
 ],
 "metadata": {
  "kernelspec": {
   "display_name": "Python 3",
   "language": "python",
   "name": "python3"
  },
  "language_info": {
   "codemirror_mode": {
    "name": "ipython",
    "version": 3
   },
   "file_extension": ".py",
   "mimetype": "text/x-python",
   "name": "python",
   "nbconvert_exporter": "python",
   "pygments_lexer": "ipython3",
<<<<<<< HEAD
   "version": "3.11.10"
=======
   "version": "3.8.5"
>>>>>>> 98a92c591fc7dd32867bea7a844a09c9d4d27a27
  }
 },
 "nbformat": 4,
 "nbformat_minor": 4
}
